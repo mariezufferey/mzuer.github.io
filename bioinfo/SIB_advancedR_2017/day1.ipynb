{
 "cells": [
  {
   "cell_type": "markdown",
   "metadata": {},
   "source": [
    "Attributes are arbitrary labels attached to R objects.\n",
    "\n",
    "Can be set by hand, but should rarely be done by hand.\n",
    "\n",
    "Example of attributes:\n",
    "- names\n",
    "- class\n",
    "- dim (every object has an attribute with its dimension)"
   ]
  },
  {
   "cell_type": "code",
   "execution_count": 2,
   "metadata": {},
   "outputs": [
    {
     "data": {
      "text/html": [
       "<dl class=dl-horizontal>\n",
       "\t<dt>A</dt>\n",
       "\t\t<dd>0.57487219828181</dd>\n",
       "\t<dt>B</dt>\n",
       "\t\t<dd>0.0770643802825361</dd>\n",
       "\t<dt>C</dt>\n",
       "\t\t<dd>0.0355405795853585</dd>\n",
       "\t<dt>D</dt>\n",
       "\t\t<dd>0.642795492196456</dd>\n",
       "\t<dt>E</dt>\n",
       "\t\t<dd>0.928615199634805</dd>\n",
       "\t<dt>F</dt>\n",
       "\t\t<dd>0.598092422354966</dd>\n",
       "\t<dt>G</dt>\n",
       "\t\t<dd>0.560900748008862</dd>\n",
       "\t<dt>H</dt>\n",
       "\t\t<dd>0.526027723914012</dd>\n",
       "\t<dt>I</dt>\n",
       "\t\t<dd>0.985095223877579</dd>\n",
       "\t<dt>J</dt>\n",
       "\t\t<dd>0.507641822332516</dd>\n",
       "</dl>\n"
      ],
      "text/latex": [
       "\\begin{description*}\n",
       "\\item[A] 0.57487219828181\n",
       "\\item[B] 0.0770643802825361\n",
       "\\item[C] 0.0355405795853585\n",
       "\\item[D] 0.642795492196456\n",
       "\\item[E] 0.928615199634805\n",
       "\\item[F] 0.598092422354966\n",
       "\\item[G] 0.560900748008862\n",
       "\\item[H] 0.526027723914012\n",
       "\\item[I] 0.985095223877579\n",
       "\\item[J] 0.507641822332516\n",
       "\\end{description*}\n"
      ],
      "text/markdown": [
       "A\n",
       ":   0.57487219828181B\n",
       ":   0.0770643802825361C\n",
       ":   0.0355405795853585D\n",
       ":   0.642795492196456E\n",
       ":   0.928615199634805F\n",
       ":   0.598092422354966G\n",
       ":   0.560900748008862H\n",
       ":   0.526027723914012I\n",
       ":   0.985095223877579J\n",
       ":   0.507641822332516\n",
       "\n"
      ],
      "text/plain": [
       "         A          B          C          D          E          F          G \n",
       "0.57487220 0.07706438 0.03554058 0.64279549 0.92861520 0.59809242 0.56090075 \n",
       "         H          I          J \n",
       "0.52602772 0.98509522 0.50764182 "
      ]
     },
     "metadata": {},
     "output_type": "display_data"
    }
   ],
   "source": [
    "x <- runif(10)\n",
    "names(x) <- LETTERS[1:10] # or letters for small letters\n",
    "x"
   ]
  },
  {
   "cell_type": "markdown",
   "metadata": {},
   "source": [
    "mode = simplified version of type.\n",
    "-> everything that is a number (e.g. integer, double, etc.) is called numeric, everything that is a function (e.g. builtin, closure, special) a function\n",
    "-> can be useful to perform check (e.g. to test if the variable is a number and you don't care if it is integer or double)\n",
    "closure = function in R"
   ]
  },
  {
   "cell_type": "code",
   "execution_count": 3,
   "metadata": {},
   "outputs": [
    {
     "data": {
      "text/html": [
       "<pre class=language-r><code>function (x) \n",
       "{\n",
       "<span style=white-space:pre-wrap>    if (is.expression(x)) </span>\n",
       "<span style=white-space:pre-wrap>        return(\"expression\")</span>\n",
       "<span style=white-space:pre-wrap>    if (is.call(x)) </span>\n",
       "<span style=white-space:pre-wrap>        return(switch(deparse(x[[1L]])[1L], `(` = \"(\", \"call\"))</span>\n",
       "<span style=white-space:pre-wrap>    if (is.name(x)) </span>\n",
       "<span style=white-space:pre-wrap>        \"name\"</span>\n",
       "<span style=white-space:pre-wrap>    else switch(tx &lt;- typeof(x), double = , integer = \"numeric\", </span>\n",
       "<span style=white-space:pre-wrap>        closure = , builtin = , special = \"function\", tx)</span>\n",
       "}</code></pre>"
      ],
      "text/latex": [
       "\\begin{minted}{r}\n",
       "function (x) \n",
       "\\{\n",
       "    if (is.expression(x)) \n",
       "        return(\"expression\")\n",
       "    if (is.call(x)) \n",
       "        return(switch(deparse(x{[}{[}1L{]}{]}){[}1L{]}, `(` = \"(\", \"call\"))\n",
       "    if (is.name(x)) \n",
       "        \"name\"\n",
       "    else switch(tx <- typeof(x), double = , integer = \"numeric\", \n",
       "        closure = , builtin = , special = \"function\", tx)\n",
       "\\}\n",
       "\\end{minted}"
      ],
      "text/markdown": [
       "```r\n",
       "function (x) \n",
       "{\n",
       "    if (is.expression(x)) \n",
       "        return(\"expression\")\n",
       "    if (is.call(x)) \n",
       "        return(switch(deparse(x[[1L]])[1L], `(` = \"(\", \"call\"))\n",
       "    if (is.name(x)) \n",
       "        \"name\"\n",
       "    else switch(tx <- typeof(x), double = , integer = \"numeric\", \n",
       "        closure = , builtin = , special = \"function\", tx)\n",
       "}\n",
       "```"
      ],
      "text/plain": [
       "function (x) \n",
       "{\n",
       "    if (is.expression(x)) \n",
       "        return(\"expression\")\n",
       "    if (is.call(x)) \n",
       "        return(switch(deparse(x[[1L]])[1L], `(` = \"(\", \"call\"))\n",
       "    if (is.name(x)) \n",
       "        \"name\"\n",
       "    else switch(tx <- typeof(x), double = , integer = \"numeric\", \n",
       "        closure = , builtin = , special = \"function\", tx)\n",
       "}\n",
       "<bytecode: 0x3608a28>\n",
       "<environment: namespace:base>"
      ]
     },
     "metadata": {},
     "output_type": "display_data"
    }
   ],
   "source": [
    "# mode as simplified version of type (upper layer of type)\n",
    "mode"
   ]
  },
  {
   "cell_type": "markdown",
   "metadata": {},
   "source": [
    "vectors can only take values from the same type, will convert data from different types to the upper type (e.g. integer converted to numeric)"
   ]
  },
  {
   "cell_type": "code",
   "execution_count": 8,
   "metadata": {},
   "outputs": [
    {
     "data": {
      "text/html": [
       "<ol class=list-inline>\n",
       "\t<li>'1'</li>\n",
       "\t<li>'a'</li>\n",
       "\t<li>'2'</li>\n",
       "</ol>\n"
      ],
      "text/latex": [
       "\\begin{enumerate*}\n",
       "\\item '1'\n",
       "\\item 'a'\n",
       "\\item '2'\n",
       "\\end{enumerate*}\n"
      ],
      "text/markdown": [
       "1. '1'\n",
       "2. 'a'\n",
       "3. '2'\n",
       "\n",
       "\n"
      ],
      "text/plain": [
       "[1] \"1\" \"a\" \"2\""
      ]
     },
     "metadata": {},
     "output_type": "display_data"
    },
    {
     "data": {
      "text/html": [
       "<ol>\n",
       "\t<li>1</li>\n",
       "\t<li>'a'</li>\n",
       "\t<li><pre class=language-r><code>.Primitive(\"c\")</code></pre></li>\n",
       "</ol>\n"
      ],
      "text/latex": [
       "\\begin{enumerate}\n",
       "\\item 1\n",
       "\\item 'a'\n",
       "\\item \\begin{minted}{r}\n",
       ".Primitive(\"c\")\n",
       "\\end{minted}\n",
       "\\end{enumerate}\n"
      ],
      "text/markdown": [
       "1. 1\n",
       "2. 'a'\n",
       "3. ```r\n",
       ".Primitive(\"c\")\n",
       "```\n",
       "\n",
       "\n"
      ],
      "text/plain": [
       "[[1]]\n",
       "[1] 1\n",
       "\n",
       "[[2]]\n",
       "[1] \"a\"\n",
       "\n",
       "[[3]]\n",
       "function (...)  .Primitive(\"c\")\n"
      ]
     },
     "metadata": {},
     "output_type": "display_data"
    }
   ],
   "source": [
    "# numeric and sttring\n",
    "c(1,\"a\",2)\n",
    "#=> convert to character\n",
    "\n",
    "# numeric, string and function\n",
    "c(1, \"a\", c)\n",
    "# => convert to list, as it allows elements of different types"
   ]
  },
  {
   "cell_type": "code",
   "execution_count": 5,
   "metadata": {},
   "outputs": [],
   "source": [
    "data <- rnorm(1000000)\n",
    "# how many are about 0 ?\n",
    "sum(data > 0)\n",
    "sum(data)/length(data)\n",
    "# but can also be done with logical\n",
    "# => for counting the proportion -> mean of logical\n",
    "mean(data > 0)"
   ]
  },
  {
   "cell_type": "code",
   "execution_count": null,
   "metadata": {},
   "outputs": [],
   "source": [
    "In contrast to other languages, logical and numeric cannot be freely exchanged"
   ]
  },
  {
   "cell_type": "code",
   "execution_count": 6,
   "metadata": {},
   "outputs": [
    {
     "data": {
      "text/html": [
       "1"
      ],
      "text/latex": [
       "1"
      ],
      "text/markdown": [
       "1"
      ],
      "text/plain": [
       "[1] 1"
      ]
     },
     "metadata": {},
     "output_type": "display_data"
    },
    {
     "data": {
      "text/html": [
       "<ol class=list-inline>\n",
       "\t<li>1</li>\n",
       "\t<li>3</li>\n",
       "\t<li>5</li>\n",
       "\t<li>7</li>\n",
       "\t<li>9</li>\n",
       "</ol>\n"
      ],
      "text/latex": [
       "\\begin{enumerate*}\n",
       "\\item 1\n",
       "\\item 3\n",
       "\\item 5\n",
       "\\item 7\n",
       "\\item 9\n",
       "\\end{enumerate*}\n"
      ],
      "text/markdown": [
       "1. 1\n",
       "2. 3\n",
       "3. 5\n",
       "4. 7\n",
       "5. 9\n",
       "\n",
       "\n"
      ],
      "text/plain": [
       "[1] 1 3 5 7 9"
      ]
     },
     "metadata": {},
     "output_type": "display_data"
    }
   ],
   "source": [
    "vect <- 1:10\n",
    "vect[c(0,1)]\n",
    "# => with numeric, just retrieves element of corresponding index\n",
    "vect[c(TRUE, FALSE)]\n",
    "# => with logical, recycling"
   ]
  },
  {
   "cell_type": "code",
   "execution_count": 9,
   "metadata": {},
   "outputs": [
    {
     "ename": "ERROR",
     "evalue": "Error in parse(text = x, srcfile = src): <text>:1:6: unexpected symbol\n1: Main data\n         ^\n",
     "output_type": "error",
     "traceback": [
      "Error in parse(text = x, srcfile = src): <text>:1:6: unexpected symbol\n1: Main data\n         ^\nTraceback:\n"
     ]
    }
   ],
   "source": [
    "Main data type = vector, one of the only data types\n",
    "\n",
    "Matrices and arrays are extension of vectors, where 2 or more dimension are specified\n"
   ]
  },
  {
   "cell_type": "code",
   "execution_count": 10,
   "metadata": {},
   "outputs": [
    {
     "data": {
      "text/html": [
       "11"
      ],
      "text/latex": [
       "11"
      ],
      "text/markdown": [
       "11"
      ],
      "text/plain": [
       "[1] 11"
      ]
     },
     "metadata": {},
     "output_type": "display_data"
    },
    {
     "data": {
      "text/html": [
       "11"
      ],
      "text/latex": [
       "11"
      ],
      "text/markdown": [
       "11"
      ],
      "text/plain": [
       "[1] 11"
      ]
     },
     "metadata": {},
     "output_type": "display_data"
    },
    {
     "data": {
      "text/html": [
       "<ol class=list-inline>\n",
       "\t<li>5</li>\n",
       "\t<li>6</li>\n",
       "</ol>\n"
      ],
      "text/latex": [
       "\\begin{enumerate*}\n",
       "\\item 5\n",
       "\\item 6\n",
       "\\end{enumerate*}\n"
      ],
      "text/markdown": [
       "1. 5\n",
       "2. 6\n",
       "\n",
       "\n"
      ],
      "text/plain": [
       "[1] 5 6"
      ]
     },
     "metadata": {},
     "output_type": "display_data"
    },
    {
     "data": {
      "text/html": [
       "30"
      ],
      "text/latex": [
       "30"
      ],
      "text/markdown": [
       "30"
      ],
      "text/plain": [
       "[1] 30"
      ]
     },
     "metadata": {},
     "output_type": "display_data"
    }
   ],
   "source": [
    "m <- matrix(1:30, ncol=6)\n",
    "# the square brackets are function => we can add arguments after the coma\n",
    "m[11] \n",
    "m[1,3]\n",
    "dim(m)\n",
    "length(m)"
   ]
  },
  {
   "cell_type": "code",
   "execution_count": null,
   "metadata": {},
   "outputs": [],
   "source": [
    "a <- matrix(1:30)\n",
    "# stores it as a vector \n",
    "# class and dimension that differ"
   ]
  },
  {
   "cell_type": "code",
   "execution_count": null,
   "metadata": {},
   "outputs": [],
   "source": [
    "mylist[1]\n",
    "# => return a sublist, is still a list; returns part of the list\n",
    "\n",
    "mylist[[1]]\n",
    "# => get what is inside the list; returns what is inside this element"
   ]
  },
  {
   "cell_type": "markdown",
   "metadata": {},
   "source": [
    "More flexible than matrices, can have different types in it\n",
    "the class is data frame, but typeof (=> low-level of the data) is list\n",
    "\n",
    "As long as unambiguous, can use name shortcut, but don't do that !"
   ]
  },
  {
   "cell_type": "markdown",
   "metadata": {},
   "source": [
    "summary() => summary of what the object contains; but the function str() is in most cases more useful"
   ]
  },
  {
   "cell_type": "markdown",
   "metadata": {},
   "source": [
    "anova with numeric -> will do a linear regression instead of an ANOVA\n",
    "output with only 1 row => just 2 groups or linear regression"
   ]
  },
  {
   "cell_type": "markdown",
   "metadata": {},
   "source": [
    "factors = vectors but constraints on the values they can contain \n",
    "\n",
    "internally: integer numbers, 1st category = 1, 2nd category = 2\n",
    "\n",
    "concatenating factors will not work -> will create a vector with numberic values"
   ]
  },
  {
   "cell_type": "code",
   "execution_count": 11,
   "metadata": {},
   "outputs": [
    {
     "data": {
      "text/html": [
       "<ol class=list-inline>\n",
       "\t<li>1</li>\n",
       "\t<li>2</li>\n",
       "\t<li>3</li>\n",
       "\t<li>1</li>\n",
       "\t<li>3</li>\n",
       "\t<li>2</li>\n",
       "</ol>\n"
      ],
      "text/latex": [
       "\\begin{enumerate*}\n",
       "\\item 1\n",
       "\\item 2\n",
       "\\item 3\n",
       "\\item 1\n",
       "\\item 3\n",
       "\\item 2\n",
       "\\end{enumerate*}\n"
      ],
      "text/markdown": [
       "1. 1\n",
       "2. 2\n",
       "3. 3\n",
       "4. 1\n",
       "5. 3\n",
       "6. 2\n",
       "\n",
       "\n"
      ],
      "text/plain": [
       "[1] 1 2 3 1 3 2"
      ]
     },
     "metadata": {},
     "output_type": "display_data"
    },
    {
     "data": {
      "text/html": [
       "<ol class=list-inline>\n",
       "\t<li>red</li>\n",
       "\t<li>brown</li>\n",
       "\t<li>blue</li>\n",
       "\t<li>white</li>\n",
       "\t<li>green</li>\n",
       "\t<li>grey</li>\n",
       "</ol>\n"
      ],
      "text/latex": [
       "\\begin{enumerate*}\n",
       "\\item red\n",
       "\\item brown\n",
       "\\item blue\n",
       "\\item white\n",
       "\\item green\n",
       "\\item grey\n",
       "\\end{enumerate*}\n"
      ],
      "text/markdown": [
       "1. red\n",
       "2. brown\n",
       "3. blue\n",
       "4. white\n",
       "5. green\n",
       "6. grey\n",
       "\n",
       "\n"
      ],
      "text/plain": [
       "[1] red   brown blue  white green grey \n",
       "Levels: red brown blue white grey green"
      ]
     },
     "metadata": {},
     "output_type": "display_data"
    },
    {
     "data": {
      "text/html": [
       "<ol class=list-inline>\n",
       "\t<li>'red'</li>\n",
       "\t<li>'brown'</li>\n",
       "\t<li>'blue'</li>\n",
       "\t<li>'white'</li>\n",
       "\t<li>'green'</li>\n",
       "\t<li>'grey'</li>\n",
       "</ol>\n"
      ],
      "text/latex": [
       "\\begin{enumerate*}\n",
       "\\item 'red'\n",
       "\\item 'brown'\n",
       "\\item 'blue'\n",
       "\\item 'white'\n",
       "\\item 'green'\n",
       "\\item 'grey'\n",
       "\\end{enumerate*}\n"
      ],
      "text/markdown": [
       "1. 'red'\n",
       "2. 'brown'\n",
       "3. 'blue'\n",
       "4. 'white'\n",
       "5. 'green'\n",
       "6. 'grey'\n",
       "\n",
       "\n"
      ],
      "text/plain": [
       "[1] \"red\"   \"brown\" \"blue\"  \"white\" \"green\" \"grey\" "
      ]
     },
     "metadata": {},
     "output_type": "display_data"
    }
   ],
   "source": [
    "hair1 <- factor(c(\"red\", \"brown\",  \"blue\"), levels = c(\"red\", \"brown\", \"blue\"))\n",
    "hair2 <- factor(c(\"white\", \"green\",  \"grey\"), levels = c(\"white\", \"grey\", \"green\"))\n",
    "\n",
    "c(hair1, hair2)\n",
    "\n",
    "# for concatenating factors: \n",
    "unlist(list(hair1, hair2))\n",
    "# ... or:\n",
    "c(as.character(hair1), as.character(hair2))"
   ]
  },
  {
   "cell_type": "code",
   "execution_count": 13,
   "metadata": {},
   "outputs": [
    {
     "data": {
      "text/html": [
       "FALSE"
      ],
      "text/latex": [
       "FALSE"
      ],
      "text/markdown": [
       "FALSE"
      ],
      "text/plain": [
       "[1] FALSE"
      ]
     },
     "metadata": {},
     "output_type": "display_data"
    }
   ],
   "source": [
    "#ordered = TRUE => can be used for comparison\n",
    "time <- factor(c(\"sometimes\", \"always\", \"never\"), levels=c(\"never\", \"sometimes\", \"always\"), ordered=T)\n",
    "time[2] < time[3]"
   ]
  },
  {
   "cell_type": "markdown",
   "metadata": {},
   "source": [
    "In previous versions of R: more memory efficient to use factors (e.g. store only 1, 2, etc. instead of the long string).\n",
    "But is not more a reason, because now stores only once each occurence of a string in a vector."
   ]
  },
  {
   "cell_type": "markdown",
   "metadata": {},
   "source": [
    "### Object-oriented programming in R"
   ]
  },
  {
   "cell_type": "markdown",
   "metadata": {},
   "source": [
    "S3 => what is used in the base R packages\n",
    "\n",
    "S4 => have to specifically say that we create a new object\n",
    "(everything in bioconductor uses S4)\n",
    "\n",
    "Objects and function: example of summary():\n",
    "summary() is defined as a generic function, what the function does depends on the class of the object. \n",
    "\n",
    "R will look for a summary.<class_name>() function. If the function does not exist, call summary.default()\n",
    "\n",
    "methods(\"summary\") => list of all the summary functions implemented for the different classes"
   ]
  },
  {
   "cell_type": "markdown",
   "metadata": {},
   "source": [
    "###### S3 classes"
   ]
  },
  {
   "cell_type": "code",
   "execution_count": 14,
   "metadata": {},
   "outputs": [
    {
     "data": {
      "text/plain": [
       " [1] summary.aov                    summary.aovlist*              \n",
       " [3] summary.aspell*                summary.check_packages_in_dir*\n",
       " [5] summary.connection             summary.data.frame            \n",
       " [7] summary.Date                   summary.default               \n",
       " [9] summary.ecdf*                  summary.factor                \n",
       "[11] summary.glm                    summary.infl*                 \n",
       "[13] summary.lm                     summary.loess*                \n",
       "[15] summary.manova                 summary.matrix                \n",
       "[17] summary.mlm*                   summary.nls*                  \n",
       "[19] summary.packageStatus*         summary.PDF_Dictionary*       \n",
       "[21] summary.PDF_Stream*            summary.POSIXct               \n",
       "[23] summary.POSIXlt                summary.ppr*                  \n",
       "[25] summary.prcomp*                summary.princomp*             \n",
       "[27] summary.proc_time              summary.srcfile               \n",
       "[29] summary.srcref                 summary.stepfun               \n",
       "[31] summary.stl*                   summary.table                 \n",
       "[33] summary.tukeysmooth*          \n",
       "see '?methods' for accessing help and source code"
      ]
     },
     "metadata": {},
     "output_type": "display_data"
    }
   ],
   "source": [
    "methods(\"summary\")"
   ]
  },
  {
   "cell_type": "code",
   "execution_count": 15,
   "metadata": {},
   "outputs": [
    {
     "data": {
      "text/html": [
       "<pre class=language-r><code>function (object, loadings = FALSE, cutoff = 0.1, ...) \n",
       "{\n",
       "<span style=white-space:pre-wrap>    object$cutoff &lt;- cutoff</span>\n",
       "<span style=white-space:pre-wrap>    object$print.loadings &lt;- loadings</span>\n",
       "<span style=white-space:pre-wrap>    class(object) &lt;- \"summary.princomp\"</span>\n",
       "<span style=white-space:pre-wrap>    object</span>\n",
       "}</code></pre>"
      ],
      "text/latex": [
       "\\begin{minted}{r}\n",
       "function (object, loadings = FALSE, cutoff = 0.1, ...) \n",
       "\\{\n",
       "    object\\$cutoff <- cutoff\n",
       "    object\\$print.loadings <- loadings\n",
       "    class(object) <- \"summary.princomp\"\n",
       "    object\n",
       "\\}\n",
       "\\end{minted}"
      ],
      "text/markdown": [
       "```r\n",
       "function (object, loadings = FALSE, cutoff = 0.1, ...) \n",
       "{\n",
       "    object$cutoff <- cutoff\n",
       "    object$print.loadings <- loadings\n",
       "    class(object) <- \"summary.princomp\"\n",
       "    object\n",
       "}\n",
       "```"
      ],
      "text/plain": [
       "function (object, loadings = FALSE, cutoff = 0.1, ...) \n",
       "{\n",
       "    object$cutoff <- cutoff\n",
       "    object$print.loadings <- loadings\n",
       "    class(object) <- \"summary.princomp\"\n",
       "    object\n",
       "}\n",
       "<bytecode: 0x5202d50>\n",
       "<environment: namespace:stats>"
      ]
     },
     "metadata": {},
     "output_type": "display_data"
    },
    {
     "data": {
      "text/plain": [
       "A single object matching ‘summary.princomp’ was found\n",
       "It was found in the following places\n",
       "  registered S3 method for summary from namespace stats\n",
       "  namespace:stats\n",
       "with value\n",
       "\n",
       "function (object, loadings = FALSE, cutoff = 0.1, ...) \n",
       "{\n",
       "    object$cutoff <- cutoff\n",
       "    object$print.loadings <- loadings\n",
       "    class(object) <- \"summary.princomp\"\n",
       "    object\n",
       "}\n",
       "<bytecode: 0x5202d50>\n",
       "<environment: namespace:stats>"
      ]
     },
     "metadata": {},
     "output_type": "display_data"
    }
   ],
   "source": [
    "# to see the body of non-visible functions:\n",
    "getS3method(\"summary\", \"princomp\")\n",
    "getAnywhere(\"summary.princomp\")"
   ]
  },
  {
   "cell_type": "markdown",
   "metadata": {},
   "source": [
    "Another exemple of generic functions:\n",
    "print(): if not implemented, just the content of the object that is printed"
   ]
  },
  {
   "cell_type": "code",
   "execution_count": null,
   "metadata": {},
   "outputs": [],
   "source": [
    "# create a list containing all the attributes your object need\n",
    "# (any R object could be used, but lists are almost always used)\n",
    "mygsea2 <- function(small.list, big.list) {\n",
    "    #[...]\n",
    "    #z <- list(ks.pos = res, [...])\n",
    "    z <- list()\n",
    "    class(z) <- \"gsea\"\n",
    "}\n",
    "\n",
    "# lists most often used for their flexibility\n",
    "\n",
    "\n",
    "# an object can have multiple classes !!!\n",
    "# => test with\n",
    "# if(!any(class(object) == \"gsea\")) \n",
    "# => ... and not\n",
    "# if(class(object) == \"gsea\"))\n",
    "\n",
    "# create a function to print information about the object\n",
    "print.gsea <- function(){}\n",
    "\n",
    "# the dispatch is not needed if the function already exists in R (e.g. print, plot, etc.)\n",
    "\n",
    "# for print() -> dispatch not needed\n",
    "reduce.gsea <- function()\n",
    "\n",
    "# Dispatch: tell R the function is implemented for this class \n",
    "reduce <- function(object) UseMethod(\"reduce\")\n",
    "    \n",
    "# !!! to access object elements -> use implemented functions, not directly list elements !!!"
   ]
  },
  {
   "cell_type": "markdown",
   "metadata": {},
   "source": [
    "If the method we create for the class does not already exist in R, we need to do the dispatch. If the function already exists (print, plot, etc.), the dispatch is not needed."
   ]
  },
  {
   "cell_type": "code",
   "execution_count": 16,
   "metadata": {},
   "outputs": [
    {
     "data": {
      "text/plain": [
       " [1] add1           alias          anova          case.names     coerce        \n",
       " [6] confint        cooks.distance deviance       dfbeta         dfbetas       \n",
       "[11] drop1          dummy.coef     effects        extractAIC     family        \n",
       "[16] formula        hatvalues      influence      initialize     kappa         \n",
       "[21] labels         logLik         model.frame    model.matrix   nobs          \n",
       "[26] plot           predict        print          proj           qr            \n",
       "[31] residuals      rstandard      rstudent       show           simulate      \n",
       "[36] slotsFromS3    summary        variable.names vcov          \n",
       "see '?methods' for accessing help and source code"
      ]
     },
     "metadata": {},
     "output_type": "display_data"
    }
   ],
   "source": [
    "# to get all the generic methods implemented for a class:\n",
    "methods(class=\"lm\")"
   ]
  },
  {
   "cell_type": "markdown",
   "metadata": {},
   "source": [
    "###### S4 classes\n",
    "\n",
    "We have to explicitly say what the class should contain.\n",
    "\n",
    "Validation function that will refuse to create an object if not fullfilled.\n",
    "-> useful to create object to do quality control of the  data we are using !\n",
    "\n",
    "Slots = attributes of the object\n",
    "\n",
    "showMethods() => to see the methods defined for an object\n",
    "\n",
    "! do not access object attributes with the @ but use functions that provide access to the slots !\n"
   ]
  },
  {
   "cell_type": "code",
   "execution_count": 19,
   "metadata": {},
   "outputs": [
    {
     "name": "stdout",
     "output_type": "stream",
     "text": [
      "Function: show (package methods)\n",
      "object=\"ANY\"\n",
      "object=\"classGeneratorFunction\"\n",
      "object=\"classRepresentation\"\n",
      "object=\"envRefClass\"\n",
      "object=\"externalRefMethod\"\n",
      "object=\"genericFunction\"\n",
      "object=\"genericFunctionWithTrace\"\n",
      "object=\"MethodDefinition\"\n",
      "object=\"MethodDefinitionWithTrace\"\n",
      "object=\"MethodSelectionReport\"\n",
      "object=\"MethodWithNext\"\n",
      "object=\"MethodWithNextWithTrace\"\n",
      "object=\"namedList\"\n",
      "object=\"ObjectsWithPackage\"\n",
      "object=\"oldClass\"\n",
      "object=\"refClassRepresentation\"\n",
      "object=\"refMethodDef\"\n",
      "object=\"refObjectGenerator\"\n",
      "object=\"signature\"\n",
      "object=\"sourceEnvironment\"\n",
      "object=\"traceable\"\n",
      "\n"
     ]
    }
   ],
   "source": [
    "showMethods(\"show\")"
   ]
  },
  {
   "cell_type": "code",
   "execution_count": 20,
   "metadata": {},
   "outputs": [
    {
     "name": "stdout",
     "output_type": "stream",
     "text": [
      "\n",
      "Function \"asJSON\":\n",
      " <not an S4 generic function>\n"
     ]
    }
   ],
   "source": [
    "showMethods(class=\"GSEA\")"
   ]
  },
  {
   "cell_type": "markdown",
   "metadata": {},
   "source": [
    "S3 to interface with base functions (e.g. linear models, etc.)\n",
    "For bioconductor, use S4.\n",
    "S4 format fits with the format of C++.\n",
    "\n",
    "names(object) => empty for S4 object\n",
    "issS4(object) => TRUE for S4 object\n",
    "\n",
    "methods(class = \"class\") => for S3\n",
    "showMethods(class=\"class\") => for S4\n",
    "\n",
    "method.class => for S3\n",
    "getMethods(\"method\",  \"class\") => for S4\n",
    "           \n",
    "$ => for S3\n",
    "@ => for S4\n",
    "\n"
   ]
  },
  {
   "cell_type": "markdown",
   "metadata": {},
   "source": [
    "Another class: ReferenceClasses (R5)"
   ]
  },
  {
   "cell_type": "code",
   "execution_count": null,
   "metadata": {},
   "outputs": [],
   "source": []
  }
 ],
 "metadata": {
  "kernelspec": {
   "display_name": "R",
   "language": "R",
   "name": "ir"
  },
  "language_info": {
   "codemirror_mode": "r",
   "file_extension": ".r",
   "mimetype": "text/x-r-source",
   "name": "R",
   "pygments_lexer": "r",
   "version": "3.4.2"
  }
 },
 "nbformat": 4,
 "nbformat_minor": 2
}
