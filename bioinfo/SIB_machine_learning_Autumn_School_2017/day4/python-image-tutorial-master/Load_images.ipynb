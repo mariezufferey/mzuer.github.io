{
 "cells": [
  {
   "cell_type": "markdown",
   "metadata": {},
   "source": [
    "Loading images with Python\n",
    "=========================="
   ]
  },
  {
   "cell_type": "markdown",
   "metadata": {},
   "source": [
    "We will import ``mahotas`` using the ``mh`` abbreviation, which we will use throughout the whole tutorial."
   ]
  },
  {
   "cell_type": "code",
   "execution_count": null,
   "metadata": {},
   "outputs": [],
   "source": [
    "import mahotas as mh"
   ]
  },
  {
   "cell_type": "markdown",
   "metadata": {},
   "source": [
    "Similarly, numpy is imported as ``np`` and ``matplotlib.pyplot`` as ``plt``:"
   ]
  },
  {
   "cell_type": "code",
   "execution_count": null,
   "metadata": {},
   "outputs": [],
   "source": [
    "import numpy as np\n",
    "from matplotlib import pyplot as plt"
   ]
  },
  {
   "cell_type": "markdown",
   "metadata": {},
   "source": [
    "Commands starting with the percentage sign (`%`) are special internal commands to ipython (as opposed to Python code to be run). In this case, we set the matplotlib environment to display images results inline (i.e., the images will be shown *inside the \n",
    "notebook*):"
   ]
  },
  {
   "cell_type": "code",
   "execution_count": null,
   "metadata": {},
   "outputs": [],
   "source": [
    "%matplotlib inline"
   ]
  },
  {
   "cell_type": "markdown",
   "metadata": {},
   "source": [
    "If you like working like this, you can also set this option globally in your configuration file.\n",
    "\n",
    "We will also set the colormap to be greyscale (see below):"
   ]
  },
  {
   "cell_type": "code",
   "execution_count": null,
   "metadata": {},
   "outputs": [],
   "source": [
    "plt.gray()"
   ]
  },
  {
   "cell_type": "markdown",
   "metadata": {},
   "source": [
    "Now, we load the image into memory with ``mahotas.imread``"
   ]
  },
  {
   "cell_type": "code",
   "execution_count": null,
   "metadata": {},
   "outputs": [],
   "source": [
    "im = mh.imread('jordan.jpeg')"
   ]
  },
  {
   "cell_type": "markdown",
   "metadata": {},
   "source": [
    "``im`` is a numpy array with format *Height x Width x Channels* (where channels is red/green/blue):"
   ]
  },
  {
   "cell_type": "code",
   "execution_count": null,
   "metadata": {},
   "outputs": [],
   "source": [
    "print type(im)\n",
    "print im.dtype\n",
    "print im.shape\n",
    "\n",
    "plt.imshow(im)"
   ]
  },
  {
   "cell_type": "markdown",
   "metadata": {},
   "source": [
    "## Images are just numpy arrays\n",
    "\n",
    "This means that we can use numpy functionality to manipulate the image. For example, we compute the mean across ``axis=2`` (the third, channel, axis) to compute a grey-scale version:"
   ]
  },
  {
   "cell_type": "code",
   "execution_count": null,
   "metadata": {},
   "outputs": [],
   "source": [
    "im = im.mean(axis=2)\n",
    "plt.imshow(im)"
   ]
  },
  {
   "cell_type": "markdown",
   "metadata": {},
   "source": [
    "Note that there are [other methods](http://en.wikipedia.org/wiki/Grayscale#Converting_color_to_grayscale) to convert to greyscale. Often the green channel is more heavily weighted as humans are more sensitive to variations of intensity in that wavelength."
   ]
  },
  {
   "cell_type": "markdown",
   "metadata": {},
   "source": [
    "### Playing with colourmaps\n",
    "\n",
    "Above we set the colourmap to `gray`, but there are other options.\n",
    "\n",
    "You can read matplotlib's [colormap documentation](http://matplotlib.org/examples/color/colormaps_reference.html) for a full list of the ones supported. Besides the purely aesthetical aspect, different colormaps make sense in different contexts."
   ]
  },
  {
   "cell_type": "code",
   "execution_count": null,
   "metadata": {},
   "outputs": [],
   "source": [
    "plt.pink()\n",
    "plt.imshow(im)"
   ]
  },
  {
   "cell_type": "markdown",
   "metadata": {},
   "source": [
    "Other operations such as thresholding can also be performed using only numpy operations:"
   ]
  },
  {
   "cell_type": "code",
   "execution_count": null,
   "metadata": {},
   "outputs": [],
   "source": [
    "thresholded = (im > 100)\n",
    "plt.imshow(thresholded)"
   ]
  },
  {
   "cell_type": "markdown",
   "metadata": {},
   "source": [
    "Because many other packages also use the numpy format, you can use functionality from other packages such as [scikit-image](http://scikit-image.org/) or [OpenCV](http://opencv.org/), [SimpleCV](http://simplecv.org/) very easily, mixing and matching functions from different packages in the same analysis."
   ]
  },
  {
   "cell_type": "markdown",
   "metadata": {},
   "source": [
    "### A few more things you should know about\n",
    "\n",
    "- `imsave`: opposite of `imread`, saves images to files"
   ]
  }
 ],
 "metadata": {
  "kernelspec": {
   "display_name": "Python 2",
   "language": "python",
   "name": "python2"
  },
  "language_info": {
   "codemirror_mode": {
    "name": "ipython",
    "version": 2
   },
   "file_extension": ".py",
   "mimetype": "text/x-python",
   "name": "python",
   "nbconvert_exporter": "python",
   "pygments_lexer": "ipython2",
   "version": "2.7.5"
  }
 },
 "nbformat": 4,
 "nbformat_minor": 1
}
